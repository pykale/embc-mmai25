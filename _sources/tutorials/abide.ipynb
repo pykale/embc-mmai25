{
 "cells": [
  {
   "cell_type": "markdown",
   "id": "be3f8a11",
   "metadata": {
    "editable": true,
    "slideshow": {
     "slide_type": ""
    },
    "tags": []
   },
   "source": [
    "# Reducing Phenotypical Effect to Improve Multi-site Autism Classification Performance\n",
    "\n",
    "In this tutorial, we will show how to leverage patient's phenotypic information to reduce the site-dependencies of functional connectivity data using domain adaptation for improving multi-site autism classification performance.\n",
    "\n",
    "The basis of this notebook is to extend the original work by Kunda et al. from IEEE TMI 2022 that proposes a second-order functional connectivity named Tangent-Pearson, the Tangent correlation of the correlation and the application of domain adaptation for neuroimaging to reduce site-dependencies.\n",
    "\n",
    "Kunda et al. previously applied domain adaptation by only leveraging the site labels. We will extend this work by applying domain adaptation using various phenotypic information like sex, handedness, age, and eye status.\n",
    "\n",
    "Our **objectives** are to:\n",
    "1. Load the ABIDE dataset with its available preprocessing pipelines and atlasses.\n",
    "2. Extracting functional connectivity from the time series extracted from the preprocessed scans.\n",
    "3. Preprocess the phenotypic information to be used for domain adaptation and obtaining the classification and site labels.\n",
    "4. Creating a pipeline to train and evaluate the performance."
   ]
  },
  {
   "cell_type": "markdown",
   "id": "c94d0896",
   "metadata": {
    "editable": true,
    "slideshow": {
     "slide_type": ""
    },
    "tags": []
   },
   "source": [
    "# Setup\n",
    "\n",
    "As a starting point, we need to install some packages and have provided helper functions to assist in this tutorial."
   ]
  },
  {
   "cell_type": "markdown",
   "id": "bbcde6a1-6f59-4d03-8ba3-a8ee3342fad5",
   "metadata": {
    "editable": true,
    "slideshow": {
     "slide_type": ""
    },
    "tags": []
   },
   "source": [
    "## Packages\n",
    "\n",
    "The packages that we will require for this tutorial includes PyKale and Nilearn. PyKale is an interdisciplinary machine learning library internally developed at the University of Sheffield and Nilearn is a neuroimaging library mainly intended for fMRI data analysis."
   ]
  },
  {
   "cell_type": "code",
   "execution_count": 1,
   "id": "07105910",
   "metadata": {
    "editable": true,
    "slideshow": {
     "slide_type": ""
    },
    "tags": [
     "hide-input"
    ]
   },
   "outputs": [
    {
     "name": "stdout",
     "output_type": "stream",
     "text": [
      "PyKale and Nilearn installed successfully ✅\n"
     ]
    }
   ],
   "source": [
    "!pip install --quiet git+https://github.com/pykale/pykale@main nilearn \\\n",
    "    && echo \"PyKale and Nilearn installed successfully ✅\" \\\n",
    "    || echo \"Failed to install PyKale and Nilearn ❌\""
   ]
  },
  {
   "cell_type": "markdown",
   "id": "3584ceea-f482-45af-afc5-3face54a6ac3",
   "metadata": {
    "editable": true,
    "slideshow": {
     "slide_type": ""
    },
    "tags": [
     "hide-input"
    ]
   },
   "source": [
    "## Helper Functions\n",
    "\n",
    "The helper functions is adopted from the [source code](https://github.com/zaRizk7/abide-demo) originally intended for demonstrating the use cases of containers to improve reproducibility and reusability in ML experiments."
   ]
  },
  {
   "cell_type": "markdown",
   "id": "a6657912-3cd9-43e7-a73c-783ccbfc7442",
   "metadata": {
    "editable": true,
    "slideshow": {
     "slide_type": ""
    },
    "tags": []
   },
   "source": [
    "### Feature Extractions\n",
    "\n",
    "Contains the imputation, categorical mapping, continuous standardization for the selected phenotypes and chaining functional connectivity extraction for the time series. "
   ]
  },
  {
   "cell_type": "code",
   "execution_count": 2,
   "id": "4c15c779-51c4-4942-90f4-63d0ca889a5f",
   "metadata": {
    "editable": true,
    "slideshow": {
     "slide_type": ""
    },
    "tags": [
     "hide-input"
    ]
   },
   "outputs": [],
   "source": [
    "import logging\n",
    "\n",
    "import numpy as np\n",
    "import pandas as pd\n",
    "from nilearn.connectome import ConnectivityMeasure\n",
    "from sklearn.preprocessing import StandardScaler\n",
    "from sklearn.utils._param_validation import (\n",
    "    Integral,\n",
    "    Interval,\n",
    "    StrOptions,\n",
    "    validate_params,\n",
    ")\n",
    "\n",
    "SELECTED_PHENOTYPES = [\n",
    "    \"SUB_ID\",\n",
    "    \"SITE_ID\",\n",
    "    \"SEX\",\n",
    "    \"AGE_AT_SCAN\",\n",
    "    \"FIQ\",\n",
    "    \"HANDEDNESS_CATEGORY\",\n",
    "    \"EYE_STATUS_AT_SCAN\",\n",
    "    \"DX_GROUP\",\n",
    "]\n",
    "\n",
    "MAPPING = {\n",
    "    \"SEX\": {1: \"MALE\", 2: \"FEMALE\"},\n",
    "    \"HANDEDNESS_CATEGORY\": {\n",
    "        \"L\": \"LEFT\",\n",
    "        \"R\": \"RIGHT\",\n",
    "        \"Mixed\": \"AMBIDEXTROUS\",\n",
    "        \"Ambi\": \"AMBIDEXTROUS\",\n",
    "        \"L->R\": \"AMBIDEXTROUS\",\n",
    "        \"R->L\": \"AMBIDEXTROUS\",\n",
    "        \"-9999\": \"LEFT\",\n",
    "        np.nan: \"LEFT\",\n",
    "    },\n",
    "    \"EYE_STATUS_AT_SCAN\": {1: \"OPEN\", 2: \"CLOSED\"},\n",
    "    \"DX_GROUP\": {1: \"ASD\", 2: \"CONTROL\"},\n",
    "}\n",
    "\n",
    "AVAILABLE_FC_MEASURES = {\n",
    "    \"pearson\": \"correlation\",\n",
    "    \"partial\": \"partial correlation\",\n",
    "    \"tangent\": \"tangent\",\n",
    "    \"covariance\": \"covariance\",\n",
    "    \"precision\": \"precision\",\n",
    "}\n",
    "\n",
    "\n",
    "@validate_params(\n",
    "    {\n",
    "        \"data\": [pd.DataFrame],\n",
    "        \"standardize\": [StrOptions({\"site\", \"all\"}), \"boolean\"],\n",
    "        \"verbose\": [\"verbose\"],\n",
    "    },\n",
    "    prefer_skip_nested_validation=False,\n",
    ")\n",
    "def process_phenotypic_data(data, standardize=False, verbose=0):\n",
    "    \"\"\"Process phenotypic data to impute missing values and and encode categorical\n",
    "    variables including sex, handedness, eye status at scan, and diagnostic group.\n",
    "\n",
    "    Parameters\n",
    "    ----------\n",
    "    data : pd.DataFrame of shape (n_subjects, n_phenotypes)\n",
    "        The phenotypes data to be processed.\n",
    "\n",
    "    standardize: boolean or str of (\"site\", \"all\")\n",
    "                Standardize FIQ and age. The default is 0.\n",
    "                Setting to True or \"all\" standardizes the\n",
    "                values over all subjects while \"site\"\n",
    "                standardizes according to the site.\n",
    "\n",
    "    verbose : int, optional\n",
    "            The verbosity level. The default is 0.\n",
    "            verbose > 0 will log the current processing step.\n",
    "\n",
    "    Returns\n",
    "    -------\n",
    "    labels : pd.Series of shape (n_subjects)\n",
    "            The encoded classification group. 0 is \"CONTROL\" and\n",
    "            1 is \"ASD\"\n",
    "\n",
    "    phenotypes : pd.DataFrame of shape (n_subjects, n_selected_phenotypes)\n",
    "                The processed selected phenotype data with imputed values.\n",
    "    \"\"\"\n",
    "    logger = logging.getLogger(\"feature_extraction.process_phenotypic_data\")\n",
    "    if verbose > 0:\n",
    "        logger.setLevel(logging.INFO)\n",
    "        logger.info(\"Imputing missing values and encoding handedness...\")\n",
    "\n",
    "    # Avoid in-place modification\n",
    "    data = data.copy()\n",
    "\n",
    "    # Check for missing values, either -9999 or NaN\n",
    "    # and impute them with FIQ = 100 following original code.\n",
    "    fiq = data[\"FIQ\"].copy()\n",
    "    data[\"FIQ\"] = fiq.where((fiq != -9999) & (~np.isnan(fiq)), 100)\n",
    "\n",
    "    # Standardize FIQ and age by site\n",
    "    if standardize == \"site\":\n",
    "        for site in data[\"SITE_ID\"].unique():\n",
    "            mask = site == data[\"SITE_ID\"]\n",
    "            values = data.loc[mask, [\"AGE_AT_SCAN\", \"FIQ\"]]\n",
    "            values = StandardScaler().fit_transform(values)\n",
    "            data.loc[mask, [\"AGE_AT_SCAN\", \"FIQ\"]] = values\n",
    "    elif standardize:\n",
    "        values = data.loc[:, [\"AGE_AT_SCAN\", \"FIQ\"]]\n",
    "        values = StandardScaler().fit_transform(values)\n",
    "        data.loc[:, [\"AGE_AT_SCAN\", \"FIQ\"]] = values\n",
    "\n",
    "    # Encode categorical variables to be more explicit categorical\n",
    "    # values. For handedness, if we found missing values, we\n",
    "    # impute them by using 'LEFT' as default. Values\n",
    "    # like 'Ambi', 'Mixed', 'L->R', and 'R->L' are mapped to\n",
    "    # 'AMBIDEXTROUS'. The rest of the values are mapped to 'LEFT' or 'RIGHT'\n",
    "    # for 'L' or 'R' respectively.\n",
    "    for key in MAPPING:\n",
    "        values = data[key].copy().map(MAPPING[key])\n",
    "        data[key] = values.astype(\"category\")\n",
    "\n",
    "    # Subsets the phenotypes\n",
    "    data = data[SELECTED_PHENOTYPES].set_index(\"SUB_ID\")\n",
    "\n",
    "    # Separate the class labels, sites, and phenotypes\n",
    "    labels = data[\"DX_GROUP\"].map({\"CONTROL\": 0, \"ASD\": 1})\n",
    "    sites = data[\"SITE_ID\"]\n",
    "    phenotypes = data.drop(columns=[\"DX_GROUP\"])\n",
    "    # One-hot encode categorical valued phenotypes\n",
    "    phenotypes = pd.get_dummies(phenotypes)\n",
    "\n",
    "    if verbose > 0:\n",
    "        logger.info(\"Imputation and encoding completed.\")\n",
    "\n",
    "    return labels, sites, phenotypes\n",
    "\n",
    "\n",
    "@validate_params(\n",
    "    {\n",
    "        \"data\": [\"array-like\"],\n",
    "        \"measures\": [list],\n",
    "        \"verbose\": [\"verbose\"],\n",
    "    },\n",
    "    prefer_skip_nested_validation=False,\n",
    ")\n",
    "def extract_functional_connectivity(data, measures=[\"pearson\"], verbose=0):\n",
    "    \"\"\"Extract functional connectivity features from time series data.\n",
    "\n",
    "    Parameters\n",
    "    ----------\n",
    "    data : list[array-like] of shape (n_subjects,)\n",
    "        An array of numpy arrays, where each array is a time series of shape (t, n_rois).\n",
    "        The time series data for each subject.\n",
    "\n",
    "    measures : list[str], optional\n",
    "        A list of connectivity measures to use for feature extraction.\n",
    "        The default is [\"pearson\"].\n",
    "        Supported measures are \"pearson\", \"partial\", \"tangent\", \"covariance\", and \"precision\".\n",
    "        Multiple measures can be specified as a list to compose a higher-order measure.\n",
    "\n",
    "    verbose : int, optional\n",
    "        The verbosity level. The default is 0.\n",
    "        verbose > 0 will log the current processing step.\n",
    "\n",
    "    Returns\n",
    "    -------\n",
    "    features : array-like\n",
    "        An array of shape (n_subjects, n_features) containing the extracted features.\n",
    "        n_features is equal to `n_rois * (n_rois - 1) / 2` for each subjects.\n",
    "    \"\"\"\n",
    "    if verbose > 0:\n",
    "        logger = logging.getLogger(\"feature_extraction.extract_functional_connectivity\")\n",
    "        logger.setLevel(logging.INFO)\n",
    "        logger.info(\"Extracting functional connectivity features...\")\n",
    "        logger.info(f\"Using measures: {measures}\")\n",
    "\n",
    "    for i, k in enumerate(reversed(measures), 1):\n",
    "        k = AVAILABLE_FC_MEASURES.get(k)\n",
    "\n",
    "        # If it is the last transformation, vectorize and discard the diagonal\n",
    "        # of shape (n_rois * (n_rois - 1) / 2)\n",
    "        islast = i == len(measures)\n",
    "        measure = ConnectivityMeasure(kind=k, vectorize=islast, discard_diagonal=islast)\n",
    "        data = measure.fit_transform(data)\n",
    "\n",
    "    if verbose > 0:\n",
    "        logger.info(\"Functional connectivity features extracted.\")\n",
    "\n",
    "    return data"
   ]
  },
  {
   "cell_type": "markdown",
   "id": "a3bcf082-b39d-44dd-88ca-f572994200dd",
   "metadata": {
    "editable": true,
    "jp-MarkdownHeadingCollapsed": true,
    "slideshow": {
     "slide_type": ""
    },
    "tags": []
   },
   "source": [
    "### Trainer\n",
    "\n",
    "Contains the hyperparameter grid and a wrapper function to train the pipeline with or without domain adaptation."
   ]
  },
  {
   "cell_type": "code",
   "execution_count": 3,
   "id": "c7b8c1e8-263a-4692-9cec-32cfc3078a80",
   "metadata": {
    "editable": true,
    "slideshow": {
     "slide_type": ""
    },
    "tags": [
     "hide-input"
    ]
   },
   "outputs": [],
   "source": [
    "import logging\n",
    "\n",
    "import numpy as np\n",
    "from kale.pipeline.mida_trainer import MIDATrainer\n",
    "from sklearn.base import clone\n",
    "from sklearn.dummy import DummyClassifier\n",
    "from sklearn.linear_model import LogisticRegression, RidgeClassifier\n",
    "from sklearn.metrics import get_scorer_names\n",
    "from sklearn.model_selection import GridSearchCV, RandomizedSearchCV, check_cv\n",
    "from sklearn.pipeline import Pipeline\n",
    "from sklearn.svm import LinearSVC\n",
    "from sklearn.utils._param_validation import (\n",
    "    Integral,\n",
    "    Interval,\n",
    "    StrOptions,\n",
    "    validate_params,\n",
    ")\n",
    "\n",
    "__all__ = [\"create_trainer\"]\n",
    "\n",
    "# Inverse regularization coefficients for the classifiers\n",
    "# For Ridge (alpha) and MIDA (mu and eta), we use 1 / (2C)\n",
    "C = np.logspace(start=-15, stop=15, num=30 + 1, base=2)\n",
    "\n",
    "CLASSIFIER = {\n",
    "    \"logistic\": LogisticRegression(),\n",
    "    \"svm\": LinearSVC(),\n",
    "    \"ridge\": RidgeClassifier(),\n",
    "}\n",
    "\n",
    "CLASSIFIER_GRID = {\n",
    "    \"logistic\": {\"C\": C},\n",
    "    \"svm\": {\"C\": C},\n",
    "    \"ridge\": {\"alpha\": 1 / (2 * C)},\n",
    "}\n",
    "\n",
    "MIDA_GRID = {\n",
    "    \"num_components\": [32, 64, 128, 256, None],\n",
    "    \"kernel\": [\"linear\", \"rbf\"],\n",
    "    \"mu\": 1 / (2 * C),\n",
    "    \"eta\": 1 / (2 * C),\n",
    "    \"ignore_y\": [True, False],\n",
    "    \"augment\": [True, False],\n",
    "}\n",
    "MIDA_GRID = {f\"domain_adapter__{key}\": value for key, value in MIDA_GRID.items()}\n",
    "\n",
    "\n",
    "@validate_params(\n",
    "    {\n",
    "        \"classifier\": [StrOptions({\"logistic\", \"svm\", \"ridge\"})],\n",
    "        \"mida\": [\"boolean\"],\n",
    "        \"search_strategy\": [StrOptions({\"grid\", \"random\"})],\n",
    "        \"cv\": [\"cv_object\"],\n",
    "        \"scoring\": [StrOptions(set(get_scorer_names())), list, None],\n",
    "        \"num_solver_iterations\": [Interval(Integral, 1, None, closed=\"left\")],\n",
    "        \"num_search_iterations\": [Interval(Integral, 1, None, closed=\"left\")],\n",
    "        \"num_jobs\": [Integral, None],\n",
    "        \"random_state\": [\"random_state\"],\n",
    "        \"verbose\": [\"verbose\"],\n",
    "    },\n",
    "    prefer_skip_nested_validation=False,\n",
    ")\n",
    "def create_trainer(\n",
    "    classifier=\"logistic\",\n",
    "    mida=False,\n",
    "    search_strategy=\"grid\",\n",
    "    cv=None,\n",
    "    scoring=None,\n",
    "    num_solver_iterations=100,\n",
    "    num_search_iterations=10,\n",
    "    num_jobs=None,\n",
    "    random_state=None,\n",
    "    verbose=0,\n",
    "):\n",
    "    \"\"\"Create a trainer for a classification model.\n",
    "\n",
    "    Parameters\n",
    "    ----------\n",
    "    classifier : str, default=\"logistic\"\n",
    "        The classifier to use. Can be \"logistic\", \"svm\", or \"ridge\".\n",
    "\n",
    "    mida : bool, default=False\n",
    "        Whether to use MIDA for site-dependency reduction.\n",
    "\n",
    "    search_strategy : str, default=\"grid\"\n",
    "        The search strategy for hyperparameter tuning. Can be \"grid\" or \"random\".\n",
    "\n",
    "    cv : int, cross-validation generator, or iterable, default=None\n",
    "        The cross-validation splitting strategy. If None, the default 5-fold\n",
    "        cross-validation is used.\n",
    "\n",
    "    scoring : str, list of str, callable, or None, default=None\n",
    "        A single string or a list of strings to use as the scoring metric(s).\n",
    "        If None, the default scoring metric for the classifier is used.\n",
    "\n",
    "    num_solver_iterations : int, default=100\n",
    "        The number of iterations for the solver. This is used to set the\n",
    "        max_iter parameter of the classifier.\n",
    "\n",
    "    num_search_iterations : int, default=10\n",
    "        The number of iterations for the random search. This is only used\n",
    "        if search_strategy is \"random\".\n",
    "\n",
    "    num_jobs : int, default=None\n",
    "        The number of jobs to run in parallel with joblib.Parallel. If None,\n",
    "        the number of jobs is set to run on a single core.\n",
    "\n",
    "    random_state : int, RandomState instance, or None, default=None\n",
    "        The random seed for the random number generator. If None, the\n",
    "        random state is not set.\n",
    "\n",
    "    Returns\n",
    "    -------\n",
    "    trainer : sklearn.model_selection.BaseSearchCV or MIDATrainer\n",
    "        The model trainer object. This can be either a GridSearchCV,\n",
    "        RandomizedSearchCV, or MIDATrainer object.\n",
    "    \"\"\"\n",
    "    if verbose > 0:\n",
    "        logger = logging.getLogger(\"modeling.create_trainer\")\n",
    "        logger.setLevel(logging.INFO)\n",
    "\n",
    "        logger.info(f\"Creating trainer with classifier: {classifier}\")\n",
    "        logger.info(f\"Using MIDA: {mida}\")\n",
    "        logger.info(f\"Search strategy: {search_strategy}\")\n",
    "        logger.info(f\"Scoring: {scoring}\")\n",
    "        logger.info(f\"Number of solver iterations: {num_solver_iterations}\")\n",
    "        logger.info(f\"Number of search iterations: {num_search_iterations}\")\n",
    "        logger.info(f\"Number of jobs: {num_jobs}\")\n",
    "        logger.info(f\"Random state: {random_state}\")\n",
    "\n",
    "    # Generate classifier with its parameter grid\n",
    "    clf = clone(CLASSIFIER[classifier])\n",
    "    clf.set_params(max_iter=num_solver_iterations, random_state=random_state)\n",
    "    param_grid = clone(CLASSIFIER_GRID[classifier], safe=False)\n",
    "\n",
    "    # Update with MIDA's parameters if we are using MIDA\n",
    "    if mida:\n",
    "        param_grid.update(MIDA_GRID)\n",
    "\n",
    "    # Construct trainer\n",
    "    trainer_args = {\n",
    "        \"cv\": check_cv(cv, [0, 1], classifier=True),\n",
    "        \"scoring\": scoring,\n",
    "        \"refit\": scoring[0] if isinstance(scoring, list) else scoring,\n",
    "        \"n_jobs\": num_jobs,\n",
    "        \"error_score\": \"raise\",\n",
    "        \"verbose\": verbose,\n",
    "    }\n",
    "\n",
    "    if verbose > 0:\n",
    "        logger.info(\"Finished constructing trainer.\")\n",
    "\n",
    "    if mida:\n",
    "        return MIDATrainer(\n",
    "            estimator=clf,\n",
    "            param_grid=param_grid,\n",
    "            search_strategy=search_strategy,\n",
    "            num_iter=num_search_iterations,\n",
    "            random_state=random_state,\n",
    "            **trainer_args,\n",
    "        )\n",
    "\n",
    "    if search_strategy == \"grid\":\n",
    "        return GridSearchCV(estimator=clf, param_grid=param_grid, **trainer_args)\n",
    "\n",
    "    return RandomizedSearchCV(\n",
    "        estimator=clf,\n",
    "        param_distributions=param_grid,\n",
    "        n_iter=num_search_iterations,\n",
    "        random_state=random_state,\n",
    "        **trainer_args,\n",
    "    )"
   ]
  },
  {
   "cell_type": "markdown",
   "id": "c6c98c7e-9e0b-477e-b470-d89780867bd2",
   "metadata": {
    "editable": true,
    "slideshow": {
     "slide_type": ""
    },
    "tags": []
   },
   "source": [
    "# Pipeline"
   ]
  },
  {
   "cell_type": "markdown",
   "id": "b43b0320-dffe-4233-bd34-9785770bbee6",
   "metadata": {
    "editable": true,
    "slideshow": {
     "slide_type": ""
    },
    "tags": []
   },
   "source": [
    "## Resting-state fMRI Preprocessing\n",
    "\n",
    "Usually, we need to preprocess the fMRI scans first before running the pipeline. However, ABIDE dataset provides several preprocessed subsets that can be downloaded directly. The ones we are going to focus on includes:\n",
    "- `atlas`: Brain atlas used for extracting the time series. Available ones are: `\"aal\"`, `\"cc200\"`, `\"cc400\"`, `\"dosenbach160\"`, `\"ez\"`, `\"ho\"`, and `\"tt\"`. Default: `\"cc200\"`.\n",
    "- `bp`: Band-pass filter signals between 0.01Hz and 0.1Hz. Default: `False`.\n",
    "- `gsr`: Applies global signal regression on the signals. Default: `False`.\n",
    "- `qc`: Only use scans that passes all quality checks. Default: `True`."
   ]
  },
  {
   "cell_type": "code",
   "execution_count": 4,
   "id": "af7f3a6f-5762-4191-9e0d-f3e3eaa33003",
   "metadata": {
    "editable": true,
    "slideshow": {
     "slide_type": ""
    },
    "tags": []
   },
   "outputs": [],
   "source": [
    "atlas = \"cc200\"\n",
    "bp = False\n",
    "gsr = False\n",
    "qc = True"
   ]
  },
  {
   "cell_type": "code",
   "execution_count": 5,
   "id": "bff0d762-27f6-4080-8918-38e4fb844a83",
   "metadata": {
    "editable": true,
    "slideshow": {
     "slide_type": ""
    },
    "tags": []
   },
   "outputs": [
    {
     "name": "stdout",
     "output_type": "stream",
     "text": [
      "[get_dataset_dir] Dataset found in /home/zarizky/nilearn_data/ABIDE_pcp\n"
     ]
    }
   ],
   "source": [
    "from nilearn.datasets import fetch_abide_pcp\n",
    "\n",
    "dataset = fetch_abide_pcp(\n",
    "    derivatives=[f\"rois_{atlas}\"],\n",
    "    band_pass_filtering=bp,\n",
    "    global_signal_regression=gsr,\n",
    "    quality_checked=qc,\n",
    ")"
   ]
  },
  {
   "cell_type": "markdown",
   "id": "5498cc9d-2157-4372-8a55-53c39c492ed5",
   "metadata": {
    "editable": true,
    "slideshow": {
     "slide_type": ""
    },
    "tags": []
   },
   "source": [
    "## Phenotype Preprocessing \n",
    "\n",
    "The phenotypic information comes with several missing data. To utilize it for modeling, we need to impute and encode the missing values. Categorical phenotypes that we will use are `SITE_ID`, `SEX`, `HANDEDNESS_CATEGORY`, `EYE_STATUS_AT_SCAN` which will be one-hot encoded while the continuous ones including `AGE_AT_SCAN` and `FIQ` will be optionally standardized by defining the argument options:\n",
    "- `standardize`: Standardization strategy for subject's age and FIQ. If set to `True` or `\"all\"`, standardizes the values over all subjects while `\"site\"` standardizes according to the sites. Default: `False`.\n",
    "\n",
    "There are several missing `HANDEDNESS_CATEGORY` values, we consider that the missing ones by default are right-handed subjects while for `FIQ`, we impute the missing values by setting them to `100`.\n",
    "\n",
    "The labels that assigns control and ASD group is the `DX_GROUP` phenotype that is binary encoded such that `CONTROL` and `ASD` is assigned to `0` and `1` respectively."
   ]
  },
  {
   "cell_type": "code",
   "execution_count": 6,
   "id": "0996603e-3a81-4277-beab-20f189af09ed",
   "metadata": {
    "editable": true,
    "slideshow": {
     "slide_type": ""
    },
    "tags": []
   },
   "outputs": [],
   "source": [
    "standardize = \"site\""
   ]
  },
  {
   "cell_type": "code",
   "execution_count": 7,
   "id": "2d4f160c-ed31-4f7e-9215-ba8f043576a3",
   "metadata": {
    "editable": true,
    "slideshow": {
     "slide_type": ""
    },
    "tags": []
   },
   "outputs": [],
   "source": [
    "labels, sites, phenotypes = process_phenotypic_data(dataset[\"phenotypic\"], standardize)"
   ]
  },
  {
   "cell_type": "markdown",
   "id": "c50bbd33-332b-4288-8def-beec31b83adf",
   "metadata": {
    "editable": true,
    "slideshow": {
     "slide_type": ""
    },
    "tags": []
   },
   "source": [
    "## Feature Extraction\n",
    "\n",
    "- `measures`: Sequences of connectivity measure transformation to extract features from the time series. Available ones are `\"pearson\"`, `\"partial\"`, `\"tangent\"`, `\"covariance\"`, and `\"precision\"`. Default: `[\"pearson\"]`."
   ]
  },
  {
   "cell_type": "code",
   "execution_count": 8,
   "id": "35b98cf5-7e46-4ab7-a746-e76c9794a97f",
   "metadata": {
    "editable": true,
    "slideshow": {
     "slide_type": ""
    },
    "tags": []
   },
   "outputs": [],
   "source": [
    "measures = [\"pearson\"]"
   ]
  },
  {
   "cell_type": "code",
   "execution_count": 9,
   "id": "62495790-b83e-439f-9860-31af63da8c4f",
   "metadata": {
    "editable": true,
    "slideshow": {
     "slide_type": ""
    },
    "tags": []
   },
   "outputs": [],
   "source": [
    "features = extract_functional_connectivity(dataset[f\"rois_{atlas}\"], measures)"
   ]
  },
  {
   "cell_type": "markdown",
   "id": "a4083ba3-67bf-4dc4-88f2-22b798cb8156",
   "metadata": {
    "editable": true,
    "slideshow": {
     "slide_type": ""
    },
    "tags": []
   },
   "source": [
    "## Modeling"
   ]
  },
  {
   "cell_type": "markdown",
   "id": "b1e3cbda-d9e9-4a81-81fc-49fa61c5b49e",
   "metadata": {
    "editable": true,
    "slideshow": {
     "slide_type": ""
    },
    "tags": []
   },
   "source": [
    "### Random Seed"
   ]
  },
  {
   "cell_type": "code",
   "execution_count": 10,
   "id": "b0081878-08f4-4614-a71f-486b919ea1fa",
   "metadata": {
    "editable": true,
    "slideshow": {
     "slide_type": ""
    },
    "tags": []
   },
   "outputs": [],
   "source": [
    "seed = 0"
   ]
  },
  {
   "cell_type": "code",
   "execution_count": 11,
   "id": "e6012573-fde9-44cd-b204-f67dbd61a9ae",
   "metadata": {
    "editable": true,
    "slideshow": {
     "slide_type": ""
    },
    "tags": []
   },
   "outputs": [],
   "source": [
    "from sklearn.utils.validation import check_random_state\n",
    "\n",
    "random_state = check_random_state(seed)"
   ]
  },
  {
   "cell_type": "markdown",
   "id": "51937de9-8899-44a5-a525-08dccca6faf0",
   "metadata": {
    "editable": true,
    "slideshow": {
     "slide_type": ""
    },
    "tags": []
   },
   "source": [
    "### Cross-Validation Split"
   ]
  },
  {
   "cell_type": "code",
   "execution_count": 12,
   "id": "b2c71cfa-0222-4187-ae19-062c008ca841",
   "metadata": {
    "editable": true,
    "slideshow": {
     "slide_type": ""
    },
    "tags": []
   },
   "outputs": [],
   "source": [
    "split = \"skf\"\n",
    "num_folds = 10\n",
    "num_cv_repeats = 5"
   ]
  },
  {
   "cell_type": "code",
   "execution_count": 13,
   "id": "1e1e926a-e7b0-41a5-ab1f-9d35c9cad8bd",
   "metadata": {
    "editable": true,
    "slideshow": {
     "slide_type": ""
    },
    "tags": []
   },
   "outputs": [],
   "source": [
    "from sklearn.model_selection import LeavePGroupsOut, RepeatedStratifiedKFold\n",
    "\n",
    "cv = RepeatedStratifiedKFold(\n",
    "    n_splits=num_folds,\n",
    "    n_repeats=num_cv_repeats,\n",
    "    random_state=random_state,\n",
    ")\n",
    "\n",
    "if split == \"lpgo\":\n",
    "    cv = LeavePGroupsOut(num_folds)"
   ]
  },
  {
   "cell_type": "markdown",
   "id": "12ca408b-2f13-4f3d-b447-7065934c33a2",
   "metadata": {
    "editable": true,
    "slideshow": {
     "slide_type": ""
    },
    "tags": []
   },
   "source": [
    "### Model Definition"
   ]
  },
  {
   "cell_type": "code",
   "execution_count": 14,
   "id": "9a84d614-69b4-4bf7-beef-a2e1f9d1cf15",
   "metadata": {
    "editable": true,
    "slideshow": {
     "slide_type": ""
    },
    "tags": []
   },
   "outputs": [],
   "source": [
    "classifier = \"logistic\"\n",
    "mida = False\n",
    "search_strategy = \"random\"\n",
    "scoring = [\"accuracy\", \"roc_auc\"]\n",
    "num_solver_iterations = 100\n",
    "num_search_iterations = 10\n",
    "num_jobs = None"
   ]
  },
  {
   "cell_type": "code",
   "execution_count": 15,
   "id": "654fef9c-a4cc-48f6-b626-4acfa2329291",
   "metadata": {
    "editable": true,
    "slideshow": {
     "slide_type": ""
    },
    "tags": []
   },
   "outputs": [],
   "source": [
    "trainer = create_trainer(\n",
    "    classifier,\n",
    "    mida,\n",
    "    search_strategy,\n",
    "    cv,\n",
    "    scoring,\n",
    "    num_solver_iterations,\n",
    "    num_search_iterations,\n",
    "    num_jobs,\n",
    "    random_state,\n",
    ")"
   ]
  },
  {
   "cell_type": "markdown",
   "id": "5a710427-d4df-4132-9b6b-70b518fe9611",
   "metadata": {
    "editable": true,
    "slideshow": {
     "slide_type": ""
    },
    "tags": []
   },
   "source": [
    "### Training"
   ]
  },
  {
   "cell_type": "code",
   "execution_count": 16,
   "id": "c53cab98-3265-4587-9d47-abd9462398b7",
   "metadata": {
    "editable": true,
    "slideshow": {
     "slide_type": ""
    },
    "tags": []
   },
   "outputs": [
    {
     "name": "stderr",
     "output_type": "stream",
     "text": [
      "/home/zarizky/miniforge3/envs/workshop-notebooks/lib/python3.10/site-packages/sklearn/model_selection/_split.py:86: UserWarning: The groups parameter is ignored by RepeatedStratifiedKFold\n",
      "  warnings.warn(\n",
      "/home/zarizky/miniforge3/envs/workshop-notebooks/lib/python3.10/site-packages/sklearn/model_selection/_split.py:877: UserWarning: The groups parameter is ignored by StratifiedKFold\n",
      "  warnings.warn(\n",
      "/home/zarizky/miniforge3/envs/workshop-notebooks/lib/python3.10/site-packages/sklearn/model_selection/_split.py:877: UserWarning: The groups parameter is ignored by StratifiedKFold\n",
      "  warnings.warn(\n",
      "/home/zarizky/miniforge3/envs/workshop-notebooks/lib/python3.10/site-packages/sklearn/model_selection/_split.py:877: UserWarning: The groups parameter is ignored by StratifiedKFold\n",
      "  warnings.warn(\n",
      "/home/zarizky/miniforge3/envs/workshop-notebooks/lib/python3.10/site-packages/sklearn/model_selection/_split.py:877: UserWarning: The groups parameter is ignored by StratifiedKFold\n",
      "  warnings.warn(\n",
      "/home/zarizky/miniforge3/envs/workshop-notebooks/lib/python3.10/site-packages/sklearn/model_selection/_split.py:877: UserWarning: The groups parameter is ignored by StratifiedKFold\n",
      "  warnings.warn(\n"
     ]
    },
    {
     "data": {
      "text/html": [
       "<style>#sk-container-id-1 {\n",
       "  /* Definition of color scheme common for light and dark mode */\n",
       "  --sklearn-color-text: #000;\n",
       "  --sklearn-color-text-muted: #666;\n",
       "  --sklearn-color-line: gray;\n",
       "  /* Definition of color scheme for unfitted estimators */\n",
       "  --sklearn-color-unfitted-level-0: #fff5e6;\n",
       "  --sklearn-color-unfitted-level-1: #f6e4d2;\n",
       "  --sklearn-color-unfitted-level-2: #ffe0b3;\n",
       "  --sklearn-color-unfitted-level-3: chocolate;\n",
       "  /* Definition of color scheme for fitted estimators */\n",
       "  --sklearn-color-fitted-level-0: #f0f8ff;\n",
       "  --sklearn-color-fitted-level-1: #d4ebff;\n",
       "  --sklearn-color-fitted-level-2: #b3dbfd;\n",
       "  --sklearn-color-fitted-level-3: cornflowerblue;\n",
       "\n",
       "  /* Specific color for light theme */\n",
       "  --sklearn-color-text-on-default-background: var(--sg-text-color, var(--theme-code-foreground, var(--jp-content-font-color1, black)));\n",
       "  --sklearn-color-background: var(--sg-background-color, var(--theme-background, var(--jp-layout-color0, white)));\n",
       "  --sklearn-color-border-box: var(--sg-text-color, var(--theme-code-foreground, var(--jp-content-font-color1, black)));\n",
       "  --sklearn-color-icon: #696969;\n",
       "\n",
       "  @media (prefers-color-scheme: dark) {\n",
       "    /* Redefinition of color scheme for dark theme */\n",
       "    --sklearn-color-text-on-default-background: var(--sg-text-color, var(--theme-code-foreground, var(--jp-content-font-color1, white)));\n",
       "    --sklearn-color-background: var(--sg-background-color, var(--theme-background, var(--jp-layout-color0, #111)));\n",
       "    --sklearn-color-border-box: var(--sg-text-color, var(--theme-code-foreground, var(--jp-content-font-color1, white)));\n",
       "    --sklearn-color-icon: #878787;\n",
       "  }\n",
       "}\n",
       "\n",
       "#sk-container-id-1 {\n",
       "  color: var(--sklearn-color-text);\n",
       "}\n",
       "\n",
       "#sk-container-id-1 pre {\n",
       "  padding: 0;\n",
       "}\n",
       "\n",
       "#sk-container-id-1 input.sk-hidden--visually {\n",
       "  border: 0;\n",
       "  clip: rect(1px 1px 1px 1px);\n",
       "  clip: rect(1px, 1px, 1px, 1px);\n",
       "  height: 1px;\n",
       "  margin: -1px;\n",
       "  overflow: hidden;\n",
       "  padding: 0;\n",
       "  position: absolute;\n",
       "  width: 1px;\n",
       "}\n",
       "\n",
       "#sk-container-id-1 div.sk-dashed-wrapped {\n",
       "  border: 1px dashed var(--sklearn-color-line);\n",
       "  margin: 0 0.4em 0.5em 0.4em;\n",
       "  box-sizing: border-box;\n",
       "  padding-bottom: 0.4em;\n",
       "  background-color: var(--sklearn-color-background);\n",
       "}\n",
       "\n",
       "#sk-container-id-1 div.sk-container {\n",
       "  /* jupyter's `normalize.less` sets `[hidden] { display: none; }`\n",
       "     but bootstrap.min.css set `[hidden] { display: none !important; }`\n",
       "     so we also need the `!important` here to be able to override the\n",
       "     default hidden behavior on the sphinx rendered scikit-learn.org.\n",
       "     See: https://github.com/scikit-learn/scikit-learn/issues/21755 */\n",
       "  display: inline-block !important;\n",
       "  position: relative;\n",
       "}\n",
       "\n",
       "#sk-container-id-1 div.sk-text-repr-fallback {\n",
       "  display: none;\n",
       "}\n",
       "\n",
       "div.sk-parallel-item,\n",
       "div.sk-serial,\n",
       "div.sk-item {\n",
       "  /* draw centered vertical line to link estimators */\n",
       "  background-image: linear-gradient(var(--sklearn-color-text-on-default-background), var(--sklearn-color-text-on-default-background));\n",
       "  background-size: 2px 100%;\n",
       "  background-repeat: no-repeat;\n",
       "  background-position: center center;\n",
       "}\n",
       "\n",
       "/* Parallel-specific style estimator block */\n",
       "\n",
       "#sk-container-id-1 div.sk-parallel-item::after {\n",
       "  content: \"\";\n",
       "  width: 100%;\n",
       "  border-bottom: 2px solid var(--sklearn-color-text-on-default-background);\n",
       "  flex-grow: 1;\n",
       "}\n",
       "\n",
       "#sk-container-id-1 div.sk-parallel {\n",
       "  display: flex;\n",
       "  align-items: stretch;\n",
       "  justify-content: center;\n",
       "  background-color: var(--sklearn-color-background);\n",
       "  position: relative;\n",
       "}\n",
       "\n",
       "#sk-container-id-1 div.sk-parallel-item {\n",
       "  display: flex;\n",
       "  flex-direction: column;\n",
       "}\n",
       "\n",
       "#sk-container-id-1 div.sk-parallel-item:first-child::after {\n",
       "  align-self: flex-end;\n",
       "  width: 50%;\n",
       "}\n",
       "\n",
       "#sk-container-id-1 div.sk-parallel-item:last-child::after {\n",
       "  align-self: flex-start;\n",
       "  width: 50%;\n",
       "}\n",
       "\n",
       "#sk-container-id-1 div.sk-parallel-item:only-child::after {\n",
       "  width: 0;\n",
       "}\n",
       "\n",
       "/* Serial-specific style estimator block */\n",
       "\n",
       "#sk-container-id-1 div.sk-serial {\n",
       "  display: flex;\n",
       "  flex-direction: column;\n",
       "  align-items: center;\n",
       "  background-color: var(--sklearn-color-background);\n",
       "  padding-right: 1em;\n",
       "  padding-left: 1em;\n",
       "}\n",
       "\n",
       "\n",
       "/* Toggleable style: style used for estimator/Pipeline/ColumnTransformer box that is\n",
       "clickable and can be expanded/collapsed.\n",
       "- Pipeline and ColumnTransformer use this feature and define the default style\n",
       "- Estimators will overwrite some part of the style using the `sk-estimator` class\n",
       "*/\n",
       "\n",
       "/* Pipeline and ColumnTransformer style (default) */\n",
       "\n",
       "#sk-container-id-1 div.sk-toggleable {\n",
       "  /* Default theme specific background. It is overwritten whether we have a\n",
       "  specific estimator or a Pipeline/ColumnTransformer */\n",
       "  background-color: var(--sklearn-color-background);\n",
       "}\n",
       "\n",
       "/* Toggleable label */\n",
       "#sk-container-id-1 label.sk-toggleable__label {\n",
       "  cursor: pointer;\n",
       "  display: flex;\n",
       "  width: 100%;\n",
       "  margin-bottom: 0;\n",
       "  padding: 0.5em;\n",
       "  box-sizing: border-box;\n",
       "  text-align: center;\n",
       "  align-items: start;\n",
       "  justify-content: space-between;\n",
       "  gap: 0.5em;\n",
       "}\n",
       "\n",
       "#sk-container-id-1 label.sk-toggleable__label .caption {\n",
       "  font-size: 0.6rem;\n",
       "  font-weight: lighter;\n",
       "  color: var(--sklearn-color-text-muted);\n",
       "}\n",
       "\n",
       "#sk-container-id-1 label.sk-toggleable__label-arrow:before {\n",
       "  /* Arrow on the left of the label */\n",
       "  content: \"▸\";\n",
       "  float: left;\n",
       "  margin-right: 0.25em;\n",
       "  color: var(--sklearn-color-icon);\n",
       "}\n",
       "\n",
       "#sk-container-id-1 label.sk-toggleable__label-arrow:hover:before {\n",
       "  color: var(--sklearn-color-text);\n",
       "}\n",
       "\n",
       "/* Toggleable content - dropdown */\n",
       "\n",
       "#sk-container-id-1 div.sk-toggleable__content {\n",
       "  max-height: 0;\n",
       "  max-width: 0;\n",
       "  overflow: hidden;\n",
       "  text-align: left;\n",
       "  /* unfitted */\n",
       "  background-color: var(--sklearn-color-unfitted-level-0);\n",
       "}\n",
       "\n",
       "#sk-container-id-1 div.sk-toggleable__content.fitted {\n",
       "  /* fitted */\n",
       "  background-color: var(--sklearn-color-fitted-level-0);\n",
       "}\n",
       "\n",
       "#sk-container-id-1 div.sk-toggleable__content pre {\n",
       "  margin: 0.2em;\n",
       "  border-radius: 0.25em;\n",
       "  color: var(--sklearn-color-text);\n",
       "  /* unfitted */\n",
       "  background-color: var(--sklearn-color-unfitted-level-0);\n",
       "}\n",
       "\n",
       "#sk-container-id-1 div.sk-toggleable__content.fitted pre {\n",
       "  /* unfitted */\n",
       "  background-color: var(--sklearn-color-fitted-level-0);\n",
       "}\n",
       "\n",
       "#sk-container-id-1 input.sk-toggleable__control:checked~div.sk-toggleable__content {\n",
       "  /* Expand drop-down */\n",
       "  max-height: 200px;\n",
       "  max-width: 100%;\n",
       "  overflow: auto;\n",
       "}\n",
       "\n",
       "#sk-container-id-1 input.sk-toggleable__control:checked~label.sk-toggleable__label-arrow:before {\n",
       "  content: \"▾\";\n",
       "}\n",
       "\n",
       "/* Pipeline/ColumnTransformer-specific style */\n",
       "\n",
       "#sk-container-id-1 div.sk-label input.sk-toggleable__control:checked~label.sk-toggleable__label {\n",
       "  color: var(--sklearn-color-text);\n",
       "  background-color: var(--sklearn-color-unfitted-level-2);\n",
       "}\n",
       "\n",
       "#sk-container-id-1 div.sk-label.fitted input.sk-toggleable__control:checked~label.sk-toggleable__label {\n",
       "  background-color: var(--sklearn-color-fitted-level-2);\n",
       "}\n",
       "\n",
       "/* Estimator-specific style */\n",
       "\n",
       "/* Colorize estimator box */\n",
       "#sk-container-id-1 div.sk-estimator input.sk-toggleable__control:checked~label.sk-toggleable__label {\n",
       "  /* unfitted */\n",
       "  background-color: var(--sklearn-color-unfitted-level-2);\n",
       "}\n",
       "\n",
       "#sk-container-id-1 div.sk-estimator.fitted input.sk-toggleable__control:checked~label.sk-toggleable__label {\n",
       "  /* fitted */\n",
       "  background-color: var(--sklearn-color-fitted-level-2);\n",
       "}\n",
       "\n",
       "#sk-container-id-1 div.sk-label label.sk-toggleable__label,\n",
       "#sk-container-id-1 div.sk-label label {\n",
       "  /* The background is the default theme color */\n",
       "  color: var(--sklearn-color-text-on-default-background);\n",
       "}\n",
       "\n",
       "/* On hover, darken the color of the background */\n",
       "#sk-container-id-1 div.sk-label:hover label.sk-toggleable__label {\n",
       "  color: var(--sklearn-color-text);\n",
       "  background-color: var(--sklearn-color-unfitted-level-2);\n",
       "}\n",
       "\n",
       "/* Label box, darken color on hover, fitted */\n",
       "#sk-container-id-1 div.sk-label.fitted:hover label.sk-toggleable__label.fitted {\n",
       "  color: var(--sklearn-color-text);\n",
       "  background-color: var(--sklearn-color-fitted-level-2);\n",
       "}\n",
       "\n",
       "/* Estimator label */\n",
       "\n",
       "#sk-container-id-1 div.sk-label label {\n",
       "  font-family: monospace;\n",
       "  font-weight: bold;\n",
       "  display: inline-block;\n",
       "  line-height: 1.2em;\n",
       "}\n",
       "\n",
       "#sk-container-id-1 div.sk-label-container {\n",
       "  text-align: center;\n",
       "}\n",
       "\n",
       "/* Estimator-specific */\n",
       "#sk-container-id-1 div.sk-estimator {\n",
       "  font-family: monospace;\n",
       "  border: 1px dotted var(--sklearn-color-border-box);\n",
       "  border-radius: 0.25em;\n",
       "  box-sizing: border-box;\n",
       "  margin-bottom: 0.5em;\n",
       "  /* unfitted */\n",
       "  background-color: var(--sklearn-color-unfitted-level-0);\n",
       "}\n",
       "\n",
       "#sk-container-id-1 div.sk-estimator.fitted {\n",
       "  /* fitted */\n",
       "  background-color: var(--sklearn-color-fitted-level-0);\n",
       "}\n",
       "\n",
       "/* on hover */\n",
       "#sk-container-id-1 div.sk-estimator:hover {\n",
       "  /* unfitted */\n",
       "  background-color: var(--sklearn-color-unfitted-level-2);\n",
       "}\n",
       "\n",
       "#sk-container-id-1 div.sk-estimator.fitted:hover {\n",
       "  /* fitted */\n",
       "  background-color: var(--sklearn-color-fitted-level-2);\n",
       "}\n",
       "\n",
       "/* Specification for estimator info (e.g. \"i\" and \"?\") */\n",
       "\n",
       "/* Common style for \"i\" and \"?\" */\n",
       "\n",
       ".sk-estimator-doc-link,\n",
       "a:link.sk-estimator-doc-link,\n",
       "a:visited.sk-estimator-doc-link {\n",
       "  float: right;\n",
       "  font-size: smaller;\n",
       "  line-height: 1em;\n",
       "  font-family: monospace;\n",
       "  background-color: var(--sklearn-color-background);\n",
       "  border-radius: 1em;\n",
       "  height: 1em;\n",
       "  width: 1em;\n",
       "  text-decoration: none !important;\n",
       "  margin-left: 0.5em;\n",
       "  text-align: center;\n",
       "  /* unfitted */\n",
       "  border: var(--sklearn-color-unfitted-level-1) 1pt solid;\n",
       "  color: var(--sklearn-color-unfitted-level-1);\n",
       "}\n",
       "\n",
       ".sk-estimator-doc-link.fitted,\n",
       "a:link.sk-estimator-doc-link.fitted,\n",
       "a:visited.sk-estimator-doc-link.fitted {\n",
       "  /* fitted */\n",
       "  border: var(--sklearn-color-fitted-level-1) 1pt solid;\n",
       "  color: var(--sklearn-color-fitted-level-1);\n",
       "}\n",
       "\n",
       "/* On hover */\n",
       "div.sk-estimator:hover .sk-estimator-doc-link:hover,\n",
       ".sk-estimator-doc-link:hover,\n",
       "div.sk-label-container:hover .sk-estimator-doc-link:hover,\n",
       ".sk-estimator-doc-link:hover {\n",
       "  /* unfitted */\n",
       "  background-color: var(--sklearn-color-unfitted-level-3);\n",
       "  color: var(--sklearn-color-background);\n",
       "  text-decoration: none;\n",
       "}\n",
       "\n",
       "div.sk-estimator.fitted:hover .sk-estimator-doc-link.fitted:hover,\n",
       ".sk-estimator-doc-link.fitted:hover,\n",
       "div.sk-label-container:hover .sk-estimator-doc-link.fitted:hover,\n",
       ".sk-estimator-doc-link.fitted:hover {\n",
       "  /* fitted */\n",
       "  background-color: var(--sklearn-color-fitted-level-3);\n",
       "  color: var(--sklearn-color-background);\n",
       "  text-decoration: none;\n",
       "}\n",
       "\n",
       "/* Span, style for the box shown on hovering the info icon */\n",
       ".sk-estimator-doc-link span {\n",
       "  display: none;\n",
       "  z-index: 9999;\n",
       "  position: relative;\n",
       "  font-weight: normal;\n",
       "  right: .2ex;\n",
       "  padding: .5ex;\n",
       "  margin: .5ex;\n",
       "  width: min-content;\n",
       "  min-width: 20ex;\n",
       "  max-width: 50ex;\n",
       "  color: var(--sklearn-color-text);\n",
       "  box-shadow: 2pt 2pt 4pt #999;\n",
       "  /* unfitted */\n",
       "  background: var(--sklearn-color-unfitted-level-0);\n",
       "  border: .5pt solid var(--sklearn-color-unfitted-level-3);\n",
       "}\n",
       "\n",
       ".sk-estimator-doc-link.fitted span {\n",
       "  /* fitted */\n",
       "  background: var(--sklearn-color-fitted-level-0);\n",
       "  border: var(--sklearn-color-fitted-level-3);\n",
       "}\n",
       "\n",
       ".sk-estimator-doc-link:hover span {\n",
       "  display: block;\n",
       "}\n",
       "\n",
       "/* \"?\"-specific style due to the `<a>` HTML tag */\n",
       "\n",
       "#sk-container-id-1 a.estimator_doc_link {\n",
       "  float: right;\n",
       "  font-size: 1rem;\n",
       "  line-height: 1em;\n",
       "  font-family: monospace;\n",
       "  background-color: var(--sklearn-color-background);\n",
       "  border-radius: 1rem;\n",
       "  height: 1rem;\n",
       "  width: 1rem;\n",
       "  text-decoration: none;\n",
       "  /* unfitted */\n",
       "  color: var(--sklearn-color-unfitted-level-1);\n",
       "  border: var(--sklearn-color-unfitted-level-1) 1pt solid;\n",
       "}\n",
       "\n",
       "#sk-container-id-1 a.estimator_doc_link.fitted {\n",
       "  /* fitted */\n",
       "  border: var(--sklearn-color-fitted-level-1) 1pt solid;\n",
       "  color: var(--sklearn-color-fitted-level-1);\n",
       "}\n",
       "\n",
       "/* On hover */\n",
       "#sk-container-id-1 a.estimator_doc_link:hover {\n",
       "  /* unfitted */\n",
       "  background-color: var(--sklearn-color-unfitted-level-3);\n",
       "  color: var(--sklearn-color-background);\n",
       "  text-decoration: none;\n",
       "}\n",
       "\n",
       "#sk-container-id-1 a.estimator_doc_link.fitted:hover {\n",
       "  /* fitted */\n",
       "  background-color: var(--sklearn-color-fitted-level-3);\n",
       "}\n",
       "</style><div id=\"sk-container-id-1\" class=\"sk-top-container\"><div class=\"sk-text-repr-fallback\"><pre>RandomizedSearchCV(cv=RepeatedStratifiedKFold(n_repeats=5, n_splits=10,\n",
       "            random_state=RandomState(MT19937) at 0x7FA866A4DE40),\n",
       "                   error_score=&#x27;raise&#x27;,\n",
       "                   estimator=LogisticRegression(max_iter=1000000,\n",
       "                                                random_state=RandomState(MT19937) at 0x7FA866A4DE40),\n",
       "                   param_distributions={&#x27;C&#x27;: array([3.05175781e-05, 6.10351562e-05, 1.22070312e-04, 2.44140625e-04,\n",
       "       4.88281250e-04, 9.765...\n",
       "       1.25000000e-01, 2.50000000e-01, 5.00000000e-01, 1.00000000e+00,\n",
       "       2.00000000e+00, 4.00000000e+00, 8.00000000e+00, 1.60000000e+01,\n",
       "       3.20000000e+01, 6.40000000e+01, 1.28000000e+02, 2.56000000e+02,\n",
       "       5.12000000e+02, 1.02400000e+03, 2.04800000e+03, 4.09600000e+03,\n",
       "       8.19200000e+03, 1.63840000e+04, 3.27680000e+04])},\n",
       "                   random_state=RandomState(MT19937) at 0x7FA866A4DE40,\n",
       "                   refit=&#x27;accuracy&#x27;, scoring=[&#x27;accuracy&#x27;, &#x27;roc_auc&#x27;])</pre><b>In a Jupyter environment, please rerun this cell to show the HTML representation or trust the notebook. <br />On GitHub, the HTML representation is unable to render, please try loading this page with nbviewer.org.</b></div><div class=\"sk-container\" hidden><div class=\"sk-item sk-dashed-wrapped\"><div class=\"sk-label-container\"><div class=\"sk-label fitted sk-toggleable\"><input class=\"sk-toggleable__control sk-hidden--visually\" id=\"sk-estimator-id-1\" type=\"checkbox\" ><label for=\"sk-estimator-id-1\" class=\"sk-toggleable__label fitted sk-toggleable__label-arrow\"><div><div>RandomizedSearchCV</div></div><div><a class=\"sk-estimator-doc-link fitted\" rel=\"noreferrer\" target=\"_blank\" href=\"https://scikit-learn.org/1.6/modules/generated/sklearn.model_selection.RandomizedSearchCV.html\">?<span>Documentation for RandomizedSearchCV</span></a><span class=\"sk-estimator-doc-link fitted\">i<span>Fitted</span></span></div></label><div class=\"sk-toggleable__content fitted\"><pre>RandomizedSearchCV(cv=RepeatedStratifiedKFold(n_repeats=5, n_splits=10,\n",
       "            random_state=RandomState(MT19937) at 0x7FA866A4DE40),\n",
       "                   error_score=&#x27;raise&#x27;,\n",
       "                   estimator=LogisticRegression(max_iter=1000000,\n",
       "                                                random_state=RandomState(MT19937) at 0x7FA866A4DE40),\n",
       "                   param_distributions={&#x27;C&#x27;: array([3.05175781e-05, 6.10351562e-05, 1.22070312e-04, 2.44140625e-04,\n",
       "       4.88281250e-04, 9.765...\n",
       "       1.25000000e-01, 2.50000000e-01, 5.00000000e-01, 1.00000000e+00,\n",
       "       2.00000000e+00, 4.00000000e+00, 8.00000000e+00, 1.60000000e+01,\n",
       "       3.20000000e+01, 6.40000000e+01, 1.28000000e+02, 2.56000000e+02,\n",
       "       5.12000000e+02, 1.02400000e+03, 2.04800000e+03, 4.09600000e+03,\n",
       "       8.19200000e+03, 1.63840000e+04, 3.27680000e+04])},\n",
       "                   random_state=RandomState(MT19937) at 0x7FA866A4DE40,\n",
       "                   refit=&#x27;accuracy&#x27;, scoring=[&#x27;accuracy&#x27;, &#x27;roc_auc&#x27;])</pre></div> </div></div><div class=\"sk-parallel\"><div class=\"sk-parallel-item\"><div class=\"sk-item\"><div class=\"sk-label-container\"><div class=\"sk-label fitted sk-toggleable\"><input class=\"sk-toggleable__control sk-hidden--visually\" id=\"sk-estimator-id-2\" type=\"checkbox\" ><label for=\"sk-estimator-id-2\" class=\"sk-toggleable__label fitted sk-toggleable__label-arrow\"><div><div>best_estimator_: LogisticRegression</div></div></label><div class=\"sk-toggleable__content fitted\"><pre>LogisticRegression(C=0.03125, max_iter=1000000,\n",
       "                   random_state=RandomState(MT19937) at 0x7FA864732640)</pre></div> </div></div><div class=\"sk-serial\"><div class=\"sk-item\"><div class=\"sk-estimator fitted sk-toggleable\"><input class=\"sk-toggleable__control sk-hidden--visually\" id=\"sk-estimator-id-3\" type=\"checkbox\" ><label for=\"sk-estimator-id-3\" class=\"sk-toggleable__label fitted sk-toggleable__label-arrow\"><div><div>LogisticRegression</div></div><div><a class=\"sk-estimator-doc-link fitted\" rel=\"noreferrer\" target=\"_blank\" href=\"https://scikit-learn.org/1.6/modules/generated/sklearn.linear_model.LogisticRegression.html\">?<span>Documentation for LogisticRegression</span></a></div></label><div class=\"sk-toggleable__content fitted\"><pre>LogisticRegression(C=0.03125, max_iter=1000000,\n",
       "                   random_state=RandomState(MT19937) at 0x7FA864732640)</pre></div> </div></div></div></div></div></div></div></div></div>"
      ],
      "text/plain": [
       "RandomizedSearchCV(cv=RepeatedStratifiedKFold(n_repeats=5, n_splits=10,\n",
       "            random_state=RandomState(MT19937) at 0x7FA866A4DE40),\n",
       "                   error_score='raise',\n",
       "                   estimator=LogisticRegression(max_iter=1000000,\n",
       "                                                random_state=RandomState(MT19937) at 0x7FA866A4DE40),\n",
       "                   param_distributions={'C': array([3.05175781e-05, 6.10351562e-05, 1.22070312e-04, 2.44140625e-04,\n",
       "       4.88281250e-04, 9.765...\n",
       "       1.25000000e-01, 2.50000000e-01, 5.00000000e-01, 1.00000000e+00,\n",
       "       2.00000000e+00, 4.00000000e+00, 8.00000000e+00, 1.60000000e+01,\n",
       "       3.20000000e+01, 6.40000000e+01, 1.28000000e+02, 2.56000000e+02,\n",
       "       5.12000000e+02, 1.02400000e+03, 2.04800000e+03, 4.09600000e+03,\n",
       "       8.19200000e+03, 1.63840000e+04, 3.27680000e+04])},\n",
       "                   random_state=RandomState(MT19937) at 0x7FA866A4DE40,\n",
       "                   refit='accuracy', scoring=['accuracy', 'roc_auc'])"
      ]
     },
     "execution_count": 16,
     "metadata": {},
     "output_type": "execute_result"
    }
   ],
   "source": [
    "fit_args = {\"x\" if mida else \"X\": features, \"y\": labels, \"groups\": sites}\n",
    "\n",
    "if mida and site_only:\n",
    "    fit_args[\"factors\"] = pd.get_dummies(groups)\n",
    "elif mida:\n",
    "    fit_args[\"factors\"] = phenotypes\n",
    "\n",
    "trainer.fit(**fit_args)"
   ]
  },
  {
   "cell_type": "markdown",
   "id": "4a202fda-19a1-4030-a45f-5a8f64880629",
   "metadata": {
    "editable": true,
    "slideshow": {
     "slide_type": ""
    },
    "tags": []
   },
   "source": [
    "### Evaluation"
   ]
  },
  {
   "cell_type": "code",
   "execution_count": 17,
   "id": "f6a1e8f1-048e-4b8f-8ad2-ab243ed872f3",
   "metadata": {
    "editable": true,
    "slideshow": {
     "slide_type": ""
    },
    "tags": []
   },
   "outputs": [],
   "source": [
    "cv_results = pd.DataFrame(trainer.cv_results_)\n",
    "cv_results = cv_results[\n",
    "    [f\"{aggregate}_test_{score}\" for score in scoring for aggregate in [\"mean\", \"std\"]]\n",
    "]\n",
    "\n",
    "cv_results = cv_results.sort_values(\"mean_test_accuracy\", ascending=False)\n",
    "cv_results = cv_results.round(4).reset_index(drop=True)\n",
    "cv_results.index.name = \"Rank\""
   ]
  },
  {
   "cell_type": "code",
   "execution_count": 18,
   "id": "a623e47d-0846-4286-8d7d-05a8303d96d1",
   "metadata": {
    "editable": true,
    "slideshow": {
     "slide_type": ""
    },
    "tags": []
   },
   "outputs": [
    {
     "data": {
      "text/html": [
       "<div>\n",
       "<style scoped>\n",
       "    .dataframe tbody tr th:only-of-type {\n",
       "        vertical-align: middle;\n",
       "    }\n",
       "\n",
       "    .dataframe tbody tr th {\n",
       "        vertical-align: top;\n",
       "    }\n",
       "\n",
       "    .dataframe thead th {\n",
       "        text-align: right;\n",
       "    }\n",
       "</style>\n",
       "<table border=\"1\" class=\"dataframe\">\n",
       "  <thead>\n",
       "    <tr style=\"text-align: right;\">\n",
       "      <th></th>\n",
       "      <th>mean_test_accuracy</th>\n",
       "      <th>std_test_accuracy</th>\n",
       "      <th>mean_test_roc_auc</th>\n",
       "      <th>std_test_roc_auc</th>\n",
       "    </tr>\n",
       "    <tr>\n",
       "      <th>Rank</th>\n",
       "      <th></th>\n",
       "      <th></th>\n",
       "      <th></th>\n",
       "      <th></th>\n",
       "    </tr>\n",
       "  </thead>\n",
       "  <tbody>\n",
       "    <tr>\n",
       "      <th>0</th>\n",
       "      <td>0.6966</td>\n",
       "      <td>0.0434</td>\n",
       "      <td>0.7568</td>\n",
       "      <td>0.0405</td>\n",
       "    </tr>\n",
       "    <tr>\n",
       "      <th>1</th>\n",
       "      <td>0.6950</td>\n",
       "      <td>0.0421</td>\n",
       "      <td>0.7548</td>\n",
       "      <td>0.0399</td>\n",
       "    </tr>\n",
       "    <tr>\n",
       "      <th>2</th>\n",
       "      <td>0.6948</td>\n",
       "      <td>0.0317</td>\n",
       "      <td>0.7476</td>\n",
       "      <td>0.0384</td>\n",
       "    </tr>\n",
       "    <tr>\n",
       "      <th>3</th>\n",
       "      <td>0.6939</td>\n",
       "      <td>0.0314</td>\n",
       "      <td>0.7477</td>\n",
       "      <td>0.0384</td>\n",
       "    </tr>\n",
       "    <tr>\n",
       "      <th>4</th>\n",
       "      <td>0.6936</td>\n",
       "      <td>0.0318</td>\n",
       "      <td>0.7470</td>\n",
       "      <td>0.0388</td>\n",
       "    </tr>\n",
       "    <tr>\n",
       "      <th>5</th>\n",
       "      <td>0.6934</td>\n",
       "      <td>0.0325</td>\n",
       "      <td>0.7482</td>\n",
       "      <td>0.0385</td>\n",
       "    </tr>\n",
       "    <tr>\n",
       "      <th>6</th>\n",
       "      <td>0.6934</td>\n",
       "      <td>0.0318</td>\n",
       "      <td>0.7479</td>\n",
       "      <td>0.0384</td>\n",
       "    </tr>\n",
       "    <tr>\n",
       "      <th>7</th>\n",
       "      <td>0.6886</td>\n",
       "      <td>0.0373</td>\n",
       "      <td>0.7515</td>\n",
       "      <td>0.0388</td>\n",
       "    </tr>\n",
       "    <tr>\n",
       "      <th>8</th>\n",
       "      <td>0.6870</td>\n",
       "      <td>0.0360</td>\n",
       "      <td>0.7466</td>\n",
       "      <td>0.0373</td>\n",
       "    </tr>\n",
       "    <tr>\n",
       "      <th>9</th>\n",
       "      <td>0.5612</td>\n",
       "      <td>0.0225</td>\n",
       "      <td>0.6736</td>\n",
       "      <td>0.0655</td>\n",
       "    </tr>\n",
       "  </tbody>\n",
       "</table>\n",
       "</div>"
      ],
      "text/plain": [
       "      mean_test_accuracy  std_test_accuracy  mean_test_roc_auc  \\\n",
       "Rank                                                             \n",
       "0                 0.6966             0.0434             0.7568   \n",
       "1                 0.6950             0.0421             0.7548   \n",
       "2                 0.6948             0.0317             0.7476   \n",
       "3                 0.6939             0.0314             0.7477   \n",
       "4                 0.6936             0.0318             0.7470   \n",
       "5                 0.6934             0.0325             0.7482   \n",
       "6                 0.6934             0.0318             0.7479   \n",
       "7                 0.6886             0.0373             0.7515   \n",
       "8                 0.6870             0.0360             0.7466   \n",
       "9                 0.5612             0.0225             0.6736   \n",
       "\n",
       "      std_test_roc_auc  \n",
       "Rank                    \n",
       "0               0.0405  \n",
       "1               0.0399  \n",
       "2               0.0384  \n",
       "3               0.0384  \n",
       "4               0.0388  \n",
       "5               0.0385  \n",
       "6               0.0384  \n",
       "7               0.0388  \n",
       "8               0.0373  \n",
       "9               0.0655  "
      ]
     },
     "execution_count": 18,
     "metadata": {},
     "output_type": "execute_result"
    }
   ],
   "source": [
    "cv_results"
   ]
  }
 ],
 "metadata": {
  "kernelspec": {
   "display_name": "Python 3 (ipykernel)",
   "language": "python",
   "name": "python3"
  },
  "language_info": {
   "codemirror_mode": {
    "name": "ipython",
    "version": 3
   },
   "file_extension": ".py",
   "mimetype": "text/x-python",
   "name": "python",
   "nbconvert_exporter": "python",
   "pygments_lexer": "ipython3",
   "version": "3.10.16"
  }
 },
 "nbformat": 4,
 "nbformat_minor": 5
}
