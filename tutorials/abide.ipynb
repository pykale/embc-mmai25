{
 "cells": [
  {
   "cell_type": "markdown",
   "id": "be3f8a11",
   "metadata": {},
   "source": [
    "# ABIDE"
   ]
  },
  {
   "cell_type": "code",
   "execution_count": null,
   "id": "07105910",
   "metadata": {},
   "outputs": [],
   "source": [
    "print('Hello!')"
   ]
  }
 ],
 "metadata": {
  "kernelspec": {
   "display_name": "workshop-notebooks",
   "language": "python",
   "name": "python3"
  },
  "language_info": {
   "name": "python",
   "version": "3.10.16"
  }
 },
 "nbformat": 4,
 "nbformat_minor": 5
}
